{
  "nbformat": 4,
  "nbformat_minor": 0,
  "metadata": {
    "colab": {
      "provenance": [],
      "gpuType": "T4",
      "authorship_tag": "ABX9TyN5axTgSTkCkWYCJfvsulNf",
      "include_colab_link": true
    },
    "kernelspec": {
      "name": "python3",
      "display_name": "Python 3"
    },
    "language_info": {
      "name": "python"
    },
    "accelerator": "GPU"
  },
  "cells": [
    {
      "cell_type": "markdown",
      "metadata": {
        "id": "view-in-github",
        "colab_type": "text"
      },
      "source": [
        "<a href=\"https://colab.research.google.com/github/Karthika506/Familial_melanoma/blob/main/Familial_melanoma.ipynb\" target=\"_parent\"><img src=\"https://colab.research.google.com/assets/colab-badge.svg\" alt=\"Open In Colab\"/></a>"
      ]
    },
    {
      "cell_type": "code",
      "execution_count": 2,
      "metadata": {
        "id": "FeKzp7xRqRbA"
      },
      "outputs": [],
      "source": [
        "import os\n",
        "import numpy as np\n",
        "import matplotlib.pyplot as plt\n",
        "import cv2\n",
        "from tensorflow.keras.models import Model\n",
        "from tensorflow.keras.layers import Input, Conv2D, MaxPooling2D, Dropout, UpSampling2D, concatenate\n",
        "from tensorflow.keras.optimizers import Adam\n",
        "from sklearn.model_selection import train_test_split"
      ]
    },
    {
      "cell_type": "code",
      "source": [
        "from google.colab import drive\n",
        "drive.mount('/content/drive')"
      ],
      "metadata": {
        "colab": {
          "base_uri": "https://localhost:8080/"
        },
        "id": "FdEzbtdlq0-H",
        "outputId": "34aefe1a-8d91-4904-a829-79b749f56bb1"
      },
      "execution_count": 1,
      "outputs": [
        {
          "output_type": "stream",
          "name": "stdout",
          "text": [
            "Mounted at /content/drive\n"
          ]
        }
      ]
    },
    {
      "cell_type": "code",
      "source": [
        "def load_dataset(data_dir):\n",
        "  images = []\n",
        "  masks = []\n",
        "  for filename in os.listdir(data_dir):\n",
        "    if filename.endswith('.jpg'):\n",
        "      image_path = os.path.join(data_dir, filename)\n",
        "      image = cv2.imread(image_path)\n",
        "      images.append(image)\n",
        "\n",
        "      mask_filename = filename.replace('.jpg', '_mask.jpg')\n",
        "      mask_path = os.path.join(data_dir, mask_filename)\n",
        "      mask = cv2.imread(mask_path, cv2.IMREAD_GRAYSCALE)\n",
        "      masks.append(mask)\n",
        "  return np.array(images), np.array(masks)\n",
        "\n",
        "def preprocess_data(images, masks):\n",
        "  images = images.astype(np.float32) / 255.0\n",
        "  masks = np.expand_dims(masks, axis=-1)\n",
        "  return images, masks\n",
        "\n",
        "data_dir = '/content/drive/MyDrive/familial_melanoma_dataset/DermMel/train_sep'\n",
        "images, masks = load_dataset(data_dir)\n",
        "\n",
        "images, masks = preprocess_data(images, masks)"
      ],
      "metadata": {
        "id": "O_EUpjN5coT5"
      },
      "execution_count": 4,
      "outputs": []
    },
    {
      "cell_type": "code",
      "source": [],
      "metadata": {
        "id": "zQQmCqLAfKqk"
      },
      "execution_count": null,
      "outputs": []
    }
  ]
}