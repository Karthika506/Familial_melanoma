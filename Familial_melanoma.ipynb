{
  "nbformat": 4,
  "nbformat_minor": 0,
  "metadata": {
    "colab": {
      "provenance": [],
      "gpuType": "T4",
      "authorship_tag": "ABX9TyORY1JZiEY44rJK3l/xw8LU",
      "include_colab_link": true
    },
    "kernelspec": {
      "name": "python3",
      "display_name": "Python 3"
    },
    "language_info": {
      "name": "python"
    },
    "accelerator": "GPU"
  },
  "cells": [
    {
      "cell_type": "markdown",
      "metadata": {
        "id": "view-in-github",
        "colab_type": "text"
      },
      "source": [
        "<a href=\"https://colab.research.google.com/github/Karthika506/Familial_melanoma/blob/main/Familial_melanoma.ipynb\" target=\"_parent\"><img src=\"https://colab.research.google.com/assets/colab-badge.svg\" alt=\"Open In Colab\"/></a>"
      ]
    },
    {
      "cell_type": "code",
      "execution_count": null,
      "metadata": {
        "id": "FeKzp7xRqRbA"
      },
      "outputs": [],
      "source": [
        "import os\n",
        "import numpy as np\n",
        "import matplotlib.pyplot as plt\n",
        "import cv2\n",
        "from tensorflow.keras.models import Model\n",
        "from tensorflow.keras.layers import Input, Conv2D, MaxPooling2D, Dropout, UpSampling2D, concatenate\n",
        "from tensorflow.keras.optimizers import Adam\n",
        "from sklearn.model_selection import train_test_split"
      ]
    },
    {
      "cell_type": "code",
      "source": [
        "from google.colab import drive\n",
        "drive.mount('/content/drive')"
      ],
      "metadata": {
        "colab": {
          "base_uri": "https://localhost:8080/"
        },
        "id": "FdEzbtdlq0-H",
        "outputId": "83fb922f-c948-4eee-9b75-118cd4072763"
      },
      "execution_count": null,
      "outputs": [
        {
          "output_type": "stream",
          "name": "stdout",
          "text": [
            "Mounted at /content/drive\n"
          ]
        }
      ]
    },
    {
      "cell_type": "code",
      "source": [
        "def load_dataset(data_dir):\n",
        "  images = []\n",
        "  # masks = []\n",
        "  for filename in os.listdir(data_dir):\n",
        "    if filename.endswith('.jpg'):\n",
        "      image_path = os.path.join(data_dir, filename)\n",
        "      image = cv2.imread(image_path)\n",
        "      images.append(image)\n",
        "\n",
        "      # #masking the image......\n",
        "\n",
        "      # #........\n",
        "      # mask_filename = filename.replace('.jpg', '_mask.jpg')\n",
        "      # mask_path = os.path.join(data_dir, mask_filename)\n",
        "      # mask = cv2.imread(mask_path, cv2.IMREAD_GRAYSCALE)\n",
        "      # masks.append(mask)\n",
        "  return np.array(images)\n",
        "\n",
        "def generate_mask(image_path,threshold):\n",
        "  image = cv2.imread(image_path)\n",
        "  grayscale = cv2.cvtColor(image, cv2.COLOR_BGR2GRAY)\n",
        "  _, binary_mask = cv2.threshold(grayscale, threshold, 255, cv2.THRESH_BINARY)\n",
        "  inverted_mask = cv2.bitwise_not(binary_mask)\n",
        "  return inverted_mask\n",
        "\n",
        "def generate_mask_dataset(data_dir, threshold):\n",
        "  image_files = [f for f in os.listdir(data_dir) if f.endswith('.jpg')]\n",
        "  masks = []\n",
        "  for image_file in image_files:\n",
        "    image_path = os.path.join(data_dir, image_file)\n",
        "    mask = generate_mask(image_path, threshold)\n",
        "    masks.append(mask)\n",
        "  return np.array(masks)\n",
        "\n",
        "def preprocess_data(images,masks):\n",
        "  images = images.astype(np.float32) / 255.0\n",
        "  masks = np.expand_dims(masks, axis=-1)\n",
        "  return images, masks\n",
        "\n",
        "data_dir = '/content/drive/MyDrive/melanoma'\n",
        "threshold_value = 128\n",
        "images = load_dataset(data_dir)\n",
        "masks = generate_mask_dataset(data_dir, threshold_value)\n",
        "\n",
        "images, masks = preprocess_data(images, masks)"
      ],
      "metadata": {
        "id": "O_EUpjN5coT5"
      },
      "execution_count": null,
      "outputs": []
    },
    {
      "cell_type": "code",
      "source": [
        "print(masks)"
      ],
      "metadata": {
        "colab": {
          "base_uri": "https://localhost:8080/"
        },
        "id": "VkfcbTId0-7e",
        "outputId": "7d87de7b-ac63-4fc9-9ef8-9fe923e6e715"
      },
      "execution_count": null,
      "outputs": [
        {
          "output_type": "stream",
          "name": "stdout",
          "text": [
            "[[[[255]\n",
            "   [255]\n",
            "   [255]\n",
            "   ...\n",
            "   [255]\n",
            "   [255]\n",
            "   [255]]\n",
            "\n",
            "  [[255]\n",
            "   [255]\n",
            "   [255]\n",
            "   ...\n",
            "   [255]\n",
            "   [255]\n",
            "   [255]]\n",
            "\n",
            "  [[255]\n",
            "   [255]\n",
            "   [255]\n",
            "   ...\n",
            "   [255]\n",
            "   [255]\n",
            "   [255]]\n",
            "\n",
            "  ...\n",
            "\n",
            "  [[255]\n",
            "   [255]\n",
            "   [255]\n",
            "   ...\n",
            "   [255]\n",
            "   [255]\n",
            "   [255]]\n",
            "\n",
            "  [[255]\n",
            "   [255]\n",
            "   [255]\n",
            "   ...\n",
            "   [255]\n",
            "   [255]\n",
            "   [255]]\n",
            "\n",
            "  [[255]\n",
            "   [255]\n",
            "   [255]\n",
            "   ...\n",
            "   [255]\n",
            "   [255]\n",
            "   [255]]]\n",
            "\n",
            "\n",
            " [[[255]\n",
            "   [255]\n",
            "   [255]\n",
            "   ...\n",
            "   [255]\n",
            "   [255]\n",
            "   [255]]\n",
            "\n",
            "  [[255]\n",
            "   [255]\n",
            "   [255]\n",
            "   ...\n",
            "   [255]\n",
            "   [255]\n",
            "   [255]]\n",
            "\n",
            "  [[255]\n",
            "   [255]\n",
            "   [255]\n",
            "   ...\n",
            "   [255]\n",
            "   [255]\n",
            "   [255]]\n",
            "\n",
            "  ...\n",
            "\n",
            "  [[255]\n",
            "   [255]\n",
            "   [255]\n",
            "   ...\n",
            "   [255]\n",
            "   [255]\n",
            "   [255]]\n",
            "\n",
            "  [[255]\n",
            "   [255]\n",
            "   [255]\n",
            "   ...\n",
            "   [255]\n",
            "   [255]\n",
            "   [255]]\n",
            "\n",
            "  [[255]\n",
            "   [255]\n",
            "   [255]\n",
            "   ...\n",
            "   [255]\n",
            "   [255]\n",
            "   [255]]]\n",
            "\n",
            "\n",
            " [[[255]\n",
            "   [255]\n",
            "   [255]\n",
            "   ...\n",
            "   [  0]\n",
            "   [  0]\n",
            "   [  0]]\n",
            "\n",
            "  [[255]\n",
            "   [255]\n",
            "   [255]\n",
            "   ...\n",
            "   [  0]\n",
            "   [  0]\n",
            "   [  0]]\n",
            "\n",
            "  [[255]\n",
            "   [255]\n",
            "   [255]\n",
            "   ...\n",
            "   [  0]\n",
            "   [  0]\n",
            "   [  0]]\n",
            "\n",
            "  ...\n",
            "\n",
            "  [[  0]\n",
            "   [  0]\n",
            "   [  0]\n",
            "   ...\n",
            "   [  0]\n",
            "   [  0]\n",
            "   [  0]]\n",
            "\n",
            "  [[  0]\n",
            "   [  0]\n",
            "   [  0]\n",
            "   ...\n",
            "   [  0]\n",
            "   [  0]\n",
            "   [  0]]\n",
            "\n",
            "  [[  0]\n",
            "   [  0]\n",
            "   [  0]\n",
            "   ...\n",
            "   [  0]\n",
            "   [  0]\n",
            "   [  0]]]\n",
            "\n",
            "\n",
            " ...\n",
            "\n",
            "\n",
            " [[[255]\n",
            "   [255]\n",
            "   [255]\n",
            "   ...\n",
            "   [255]\n",
            "   [255]\n",
            "   [255]]\n",
            "\n",
            "  [[255]\n",
            "   [255]\n",
            "   [255]\n",
            "   ...\n",
            "   [255]\n",
            "   [255]\n",
            "   [255]]\n",
            "\n",
            "  [[255]\n",
            "   [255]\n",
            "   [255]\n",
            "   ...\n",
            "   [255]\n",
            "   [255]\n",
            "   [255]]\n",
            "\n",
            "  ...\n",
            "\n",
            "  [[255]\n",
            "   [255]\n",
            "   [255]\n",
            "   ...\n",
            "   [255]\n",
            "   [255]\n",
            "   [255]]\n",
            "\n",
            "  [[255]\n",
            "   [255]\n",
            "   [255]\n",
            "   ...\n",
            "   [255]\n",
            "   [255]\n",
            "   [255]]\n",
            "\n",
            "  [[255]\n",
            "   [255]\n",
            "   [255]\n",
            "   ...\n",
            "   [255]\n",
            "   [255]\n",
            "   [255]]]\n",
            "\n",
            "\n",
            " [[[255]\n",
            "   [255]\n",
            "   [255]\n",
            "   ...\n",
            "   [255]\n",
            "   [255]\n",
            "   [255]]\n",
            "\n",
            "  [[255]\n",
            "   [  0]\n",
            "   [  0]\n",
            "   ...\n",
            "   [255]\n",
            "   [255]\n",
            "   [255]]\n",
            "\n",
            "  [[  0]\n",
            "   [  0]\n",
            "   [  0]\n",
            "   ...\n",
            "   [255]\n",
            "   [255]\n",
            "   [255]]\n",
            "\n",
            "  ...\n",
            "\n",
            "  [[  0]\n",
            "   [  0]\n",
            "   [  0]\n",
            "   ...\n",
            "   [255]\n",
            "   [255]\n",
            "   [255]]\n",
            "\n",
            "  [[  0]\n",
            "   [  0]\n",
            "   [  0]\n",
            "   ...\n",
            "   [255]\n",
            "   [255]\n",
            "   [255]]\n",
            "\n",
            "  [[  0]\n",
            "   [  0]\n",
            "   [  0]\n",
            "   ...\n",
            "   [255]\n",
            "   [255]\n",
            "   [255]]]\n",
            "\n",
            "\n",
            " [[[255]\n",
            "   [255]\n",
            "   [255]\n",
            "   ...\n",
            "   [255]\n",
            "   [255]\n",
            "   [255]]\n",
            "\n",
            "  [[255]\n",
            "   [255]\n",
            "   [255]\n",
            "   ...\n",
            "   [255]\n",
            "   [255]\n",
            "   [255]]\n",
            "\n",
            "  [[255]\n",
            "   [255]\n",
            "   [255]\n",
            "   ...\n",
            "   [255]\n",
            "   [255]\n",
            "   [255]]\n",
            "\n",
            "  ...\n",
            "\n",
            "  [[255]\n",
            "   [255]\n",
            "   [255]\n",
            "   ...\n",
            "   [255]\n",
            "   [255]\n",
            "   [255]]\n",
            "\n",
            "  [[255]\n",
            "   [255]\n",
            "   [255]\n",
            "   ...\n",
            "   [255]\n",
            "   [255]\n",
            "   [255]]\n",
            "\n",
            "  [[255]\n",
            "   [255]\n",
            "   [255]\n",
            "   ...\n",
            "   [255]\n",
            "   [255]\n",
            "   [255]]]]\n"
          ]
        }
      ]
    },
    {
      "cell_type": "code",
      "source": [
        "train_images, val_images, train_masks, val_masks = train_test_split(images, masks, test_size=0.2, random_state=10)"
      ],
      "metadata": {
        "id": "2f1sy5y2zDCG"
      },
      "execution_count": null,
      "outputs": []
    },
    {
      "cell_type": "code",
      "source": [
        "import tensorflow as tf\n",
        "\n",
        "def unet_model(input_shape):\n",
        "  inputs = Input(input_shape)\n",
        "  conv1 = Conv2D(64, 3, activation='relu', padding='same')(inputs)\n",
        "  conv1 = Conv2D(64, 3, activation='relu', padding='same')(conv1)\n",
        "  pool1 = MaxPooling2D(pool_size=(2, 2))(conv1)\n",
        "\n",
        "  conv2 = Conv2D(128, 3, activation='relu', padding='same')(pool1)\n",
        "  conv2 = Conv2D(128, 3, activation='relu', padding='same')(conv2)\n",
        "  pool2 = MaxPooling2D(pool_size=(2, 2))(conv2)\n",
        "\n",
        "  conv3 = Conv2D(256, 3, activation='relu', padding='same')(pool2)\n",
        "  conv3 = Conv2D(256, 3, activation='relu', padding='same')(conv3)\n",
        "  up1 = UpSampling2D(size=(2, 2))(conv3)\n",
        "  up1 = tf.image.resize(up1, (conv2.shape[1], conv2.shape[2]))  # Resize up1 to match conv2 shape\n",
        "\n",
        "  concat1 = concatenate([conv2, up1], axis=-1)\n",
        "  conv4 = Conv2D(128, 3, activation='relu', padding='same')(concat1)\n",
        "  conv4 = Conv2D(128, 3, activation='relu', padding='same')(conv4)\n",
        "  up2 = UpSampling2D(size=(2, 2))(conv4)\n",
        "\n",
        "  concat2 = concatenate([conv1, up2], axis=-1)\n",
        "  conv5 = Conv2D(64, 3, activation='relu', padding='same')(concat2)\n",
        "  conv5 = Conv2D(64, 3, activation='relu', padding='same')(conv5)\n",
        "\n",
        "  outputs = Conv2D(1, 1, activation='sigmoid')(conv5)\n",
        "\n",
        "  model = Model(inputs=inputs, outputs=outputs)\n",
        "  return model\n",
        "\n",
        "\n",
        "input_shape = train_images[0].shape\n",
        "model = unet_model(input_shape)\n",
        "\n",
        "model.compile(optimizer = Adam(lr = 1e-4), loss='binary_crossentropy', metrics=['accuracy'])"
      ],
      "metadata": {
        "id": "zQQmCqLAfKqk",
        "colab": {
          "base_uri": "https://localhost:8080/"
        },
        "outputId": "e8c86495-8259-4902-a84d-55efc83242d2"
      },
      "execution_count": null,
      "outputs": [
        {
          "output_type": "stream",
          "name": "stderr",
          "text": [
            "WARNING:absl:`lr` is deprecated in Keras optimizer, please use `learning_rate` or use the legacy optimizer, e.g.,tf.keras.optimizers.legacy.Adam.\n"
          ]
        }
      ]
    },
    {
      "cell_type": "code",
      "source": [
        "history = model.fit(train_images, train_masks, batch_size = 8, epochs = 10, validation_data = (val_images, val_masks))"
      ],
      "metadata": {
        "id": "prOYMX0DufoT",
        "colab": {
          "base_uri": "https://localhost:8080/"
        },
        "outputId": "f057d9b4-7258-48fb-83db-669c755d2ebd"
      },
      "execution_count": null,
      "outputs": [
        {
          "output_type": "stream",
          "name": "stdout",
          "text": [
            "Epoch 1/10\n",
            "19/19 [==============================] - 90s 3s/step - loss: -643712896.0000 - accuracy: 0.0418 - val_loss: -12384557056.0000 - val_accuracy: 0.0000e+00\n",
            "Epoch 2/10\n",
            "19/19 [==============================] - 29s 2s/step - loss: -14196061241344.0000 - accuracy: 0.0000e+00 - val_loss: -128733323198464.0000 - val_accuracy: 0.0000e+00\n",
            "Epoch 3/10\n",
            "19/19 [==============================] - 30s 2s/step - loss: -10014729862905856.0000 - accuracy: 0.0000e+00 - val_loss: -65326787579609088.0000 - val_accuracy: 0.0000e+00\n",
            "Epoch 4/10\n",
            "19/19 [==============================] - 29s 2s/step - loss: -1510330815916015616.0000 - accuracy: 0.0000e+00 - val_loss: -6856902506241327104.0000 - val_accuracy: 0.0000e+00\n",
            "Epoch 5/10\n",
            "19/19 [==============================] - 28s 1s/step - loss: nan - accuracy: 0.1171 - val_loss: nan - val_accuracy: 0.7415\n",
            "Epoch 6/10\n",
            "19/19 [==============================] - 26s 1s/step - loss: nan - accuracy: 0.7352 - val_loss: nan - val_accuracy: 0.7415\n",
            "Epoch 7/10\n",
            "19/19 [==============================] - 26s 1s/step - loss: nan - accuracy: 0.7352 - val_loss: nan - val_accuracy: 0.7415\n",
            "Epoch 8/10\n",
            "19/19 [==============================] - 26s 1s/step - loss: nan - accuracy: 0.7352 - val_loss: nan - val_accuracy: 0.7415\n",
            "Epoch 9/10\n",
            "19/19 [==============================] - 26s 1s/step - loss: nan - accuracy: 0.7352 - val_loss: nan - val_accuracy: 0.7415\n",
            "Epoch 10/10\n",
            "19/19 [==============================] - 26s 1s/step - loss: nan - accuracy: 0.7352 - val_loss: nan - val_accuracy: 0.7415\n"
          ]
        }
      ]
    },
    {
      "cell_type": "code",
      "source": [
        "sample_image = val_images[0]\n",
        "sample_mask = val_masks[0]\n",
        "\n",
        "segmentation_mask = model.predict(np.expand_dims(sample_image, axis = 0))\n",
        "segmentation_mask = np.squeeze(segmentation_mask)\n",
        "\n",
        "threshold = 0.5\n",
        "binary_mask = (segmentation_mask > threshold).astype(np.uint8)"
      ],
      "metadata": {
        "id": "iTNKRle1zJZy",
        "colab": {
          "base_uri": "https://localhost:8080/"
        },
        "outputId": "5a91665f-3459-4342-9ba4-4e5057716395"
      },
      "execution_count": null,
      "outputs": [
        {
          "output_type": "stream",
          "name": "stdout",
          "text": [
            "1/1 [==============================] - 2s 2s/step\n"
          ]
        }
      ]
    },
    {
      "cell_type": "code",
      "source": [
        "binary_mask"
      ],
      "metadata": {
        "id": "DBaZCevM0dgY",
        "colab": {
          "base_uri": "https://localhost:8080/"
        },
        "outputId": "ceef8c45-3526-4865-8edf-3418f9f51bc0"
      },
      "execution_count": null,
      "outputs": [
        {
          "output_type": "execute_result",
          "data": {
            "text/plain": [
              "array([[0, 0, 0, ..., 0, 0, 0],\n",
              "       [0, 0, 0, ..., 0, 0, 0],\n",
              "       [0, 0, 0, ..., 0, 0, 0],\n",
              "       ...,\n",
              "       [0, 0, 0, ..., 0, 0, 0],\n",
              "       [0, 0, 0, ..., 0, 0, 0],\n",
              "       [0, 0, 0, ..., 0, 0, 0]], dtype=uint8)"
            ]
          },
          "metadata": {},
          "execution_count": 8
        }
      ]
    },
    {
      "cell_type": "code",
      "source": [
        "import matplotlib.pyplot as plt\n",
        "\n",
        "# Assuming you have an array named 'image_array'\n",
        "plt.imshow(binary_mask)\n",
        "plt.axis('off')  # Remove axis ticks and labels\n",
        "plt.show()"
      ],
      "metadata": {
        "colab": {
          "base_uri": "https://localhost:8080/",
          "height": 406
        },
        "id": "uQDDeRGNgQav",
        "outputId": "f5b8fa64-42b5-4a96-aebf-b78c673596d9"
      },
      "execution_count": null,
      "outputs": [
        {
          "output_type": "display_data",
          "data": {
            "text/plain": [
              "<Figure size 640x480 with 1 Axes>"
            ],
            "image/png": "[encoded data removed]"
          },
          "metadata": {}
        }
      ]
    },
    {
      "cell_type": "code",
      "source": [],
      "metadata": {
        "id": "0mydxPoqhL2_"
      },
      "execution_count": null,
      "outputs": []
    }
  ]
}